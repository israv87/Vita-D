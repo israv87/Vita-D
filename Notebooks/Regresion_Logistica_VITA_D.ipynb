{
  "cells": [
    {
      "cell_type": "markdown",
      "metadata": {
        "id": "h92UDGXJHZYt"
      },
      "source": [
        "# Ejercicio Python de Regresión Logística\n",
        "Realizaremos un ejercicio de prueba para comprender como funciona este algoritmo"
      ]
    },
    {
      "cell_type": "code",
      "execution_count": null,
      "metadata": {
        "collapsed": true,
        "id": "7zKqzRAoHZYu"
      },
      "outputs": [],
      "source": [
        "import pandas as pd\n",
        "import numpy as np\n",
        "from sklearn import linear_model\n",
        "from sklearn import model_selection\n",
        "from sklearn.metrics import classification_report\n",
        "from sklearn.metrics import confusion_matrix\n",
        "from sklearn.metrics import accuracy_score\n",
        "import matplotlib.pyplot as plt\n",
        "import seaborn as sb\n",
        "%matplotlib inline"
      ]
    },
    {
      "cell_type": "markdown",
      "metadata": {
        "id": "QKrnaeycHZYv"
      },
      "source": [
        "## Cargamos los datos de entrada del archivo csv"
      ]
    },
    {
      "cell_type": "code",
      "execution_count": null,
      "metadata": {
        "colab": {
          "base_uri": "https://localhost:8080/",
          "height": 226
        },
        "id": "-WBvhfDLHZYv",
        "outputId": "77abe418-e2d0-45b1-bb13-372c709b6637"
      },
      "outputs": [
        {
          "output_type": "execute_result",
          "data": {
            "text/plain": [
              "   Edad  Sexo   IMC  CintCad  GrasCorp  Cigarrillos  Alcohol  Piel  Diabetes  \\\n",
              "0    37     1  23.4     0.87      20.0            5        1     4         0   \n",
              "1    39     1  25.9     0.91      22.0            7        1     3         0   \n",
              "2    60     2  30.6     0.95      25.8            7        1     3         0   \n",
              "3    53     2  28.4     0.93      25.0            7        1     4         0   \n",
              "4    39     2  25.2     0.89      18.8            7        1     3         0   \n",
              "\n",
              "   MasaMusc  ActFisica  Trabajo  Farmacos  ProtectorSolar  ExposicionDias  \\\n",
              "0      23.8          0        1         7               1               2   \n",
              "1      21.8          0        1         4               2               2   \n",
              "2      34.2          1        1         7               5               0   \n",
              "3      28.7          0        2         8               1               5   \n",
              "4      26.8          1        1         8               2               1   \n",
              "\n",
              "   ExposicionMinutos  VitaminaD  \n",
              "0                 60      20.70  \n",
              "1                 30      26.74  \n",
              "2                  0      20.53  \n",
              "3                150      11.35  \n",
              "4                 10      34.61  "
            ],
            "text/html": [
              "\n",
              "  <div id=\"df-c3cf5b0d-5125-4303-bcaf-425c9486d588\" class=\"colab-df-container\">\n",
              "    <div>\n",
              "<style scoped>\n",
              "    .dataframe tbody tr th:only-of-type {\n",
              "        vertical-align: middle;\n",
              "    }\n",
              "\n",
              "    .dataframe tbody tr th {\n",
              "        vertical-align: top;\n",
              "    }\n",
              "\n",
              "    .dataframe thead th {\n",
              "        text-align: right;\n",
              "    }\n",
              "</style>\n",
              "<table border=\"1\" class=\"dataframe\">\n",
              "  <thead>\n",
              "    <tr style=\"text-align: right;\">\n",
              "      <th></th>\n",
              "      <th>Edad</th>\n",
              "      <th>Sexo</th>\n",
              "      <th>IMC</th>\n",
              "      <th>CintCad</th>\n",
              "      <th>GrasCorp</th>\n",
              "      <th>Cigarrillos</th>\n",
              "      <th>Alcohol</th>\n",
              "      <th>Piel</th>\n",
              "      <th>Diabetes</th>\n",
              "      <th>MasaMusc</th>\n",
              "      <th>ActFisica</th>\n",
              "      <th>Trabajo</th>\n",
              "      <th>Farmacos</th>\n",
              "      <th>ProtectorSolar</th>\n",
              "      <th>ExposicionDias</th>\n",
              "      <th>ExposicionMinutos</th>\n",
              "      <th>VitaminaD</th>\n",
              "    </tr>\n",
              "  </thead>\n",
              "  <tbody>\n",
              "    <tr>\n",
              "      <th>0</th>\n",
              "      <td>37</td>\n",
              "      <td>1</td>\n",
              "      <td>23.4</td>\n",
              "      <td>0.87</td>\n",
              "      <td>20.0</td>\n",
              "      <td>5</td>\n",
              "      <td>1</td>\n",
              "      <td>4</td>\n",
              "      <td>0</td>\n",
              "      <td>23.8</td>\n",
              "      <td>0</td>\n",
              "      <td>1</td>\n",
              "      <td>7</td>\n",
              "      <td>1</td>\n",
              "      <td>2</td>\n",
              "      <td>60</td>\n",
              "      <td>20.70</td>\n",
              "    </tr>\n",
              "    <tr>\n",
              "      <th>1</th>\n",
              "      <td>39</td>\n",
              "      <td>1</td>\n",
              "      <td>25.9</td>\n",
              "      <td>0.91</td>\n",
              "      <td>22.0</td>\n",
              "      <td>7</td>\n",
              "      <td>1</td>\n",
              "      <td>3</td>\n",
              "      <td>0</td>\n",
              "      <td>21.8</td>\n",
              "      <td>0</td>\n",
              "      <td>1</td>\n",
              "      <td>4</td>\n",
              "      <td>2</td>\n",
              "      <td>2</td>\n",
              "      <td>30</td>\n",
              "      <td>26.74</td>\n",
              "    </tr>\n",
              "    <tr>\n",
              "      <th>2</th>\n",
              "      <td>60</td>\n",
              "      <td>2</td>\n",
              "      <td>30.6</td>\n",
              "      <td>0.95</td>\n",
              "      <td>25.8</td>\n",
              "      <td>7</td>\n",
              "      <td>1</td>\n",
              "      <td>3</td>\n",
              "      <td>0</td>\n",
              "      <td>34.2</td>\n",
              "      <td>1</td>\n",
              "      <td>1</td>\n",
              "      <td>7</td>\n",
              "      <td>5</td>\n",
              "      <td>0</td>\n",
              "      <td>0</td>\n",
              "      <td>20.53</td>\n",
              "    </tr>\n",
              "    <tr>\n",
              "      <th>3</th>\n",
              "      <td>53</td>\n",
              "      <td>2</td>\n",
              "      <td>28.4</td>\n",
              "      <td>0.93</td>\n",
              "      <td>25.0</td>\n",
              "      <td>7</td>\n",
              "      <td>1</td>\n",
              "      <td>4</td>\n",
              "      <td>0</td>\n",
              "      <td>28.7</td>\n",
              "      <td>0</td>\n",
              "      <td>2</td>\n",
              "      <td>8</td>\n",
              "      <td>1</td>\n",
              "      <td>5</td>\n",
              "      <td>150</td>\n",
              "      <td>11.35</td>\n",
              "    </tr>\n",
              "    <tr>\n",
              "      <th>4</th>\n",
              "      <td>39</td>\n",
              "      <td>2</td>\n",
              "      <td>25.2</td>\n",
              "      <td>0.89</td>\n",
              "      <td>18.8</td>\n",
              "      <td>7</td>\n",
              "      <td>1</td>\n",
              "      <td>3</td>\n",
              "      <td>0</td>\n",
              "      <td>26.8</td>\n",
              "      <td>1</td>\n",
              "      <td>1</td>\n",
              "      <td>8</td>\n",
              "      <td>2</td>\n",
              "      <td>1</td>\n",
              "      <td>10</td>\n",
              "      <td>34.61</td>\n",
              "    </tr>\n",
              "  </tbody>\n",
              "</table>\n",
              "</div>\n",
              "    <div class=\"colab-df-buttons\">\n",
              "\n",
              "  <div class=\"colab-df-container\">\n",
              "    <button class=\"colab-df-convert\" onclick=\"convertToInteractive('df-c3cf5b0d-5125-4303-bcaf-425c9486d588')\"\n",
              "            title=\"Convert this dataframe to an interactive table.\"\n",
              "            style=\"display:none;\">\n",
              "\n",
              "  <svg xmlns=\"http://www.w3.org/2000/svg\" height=\"24px\" viewBox=\"0 -960 960 960\">\n",
              "    <path d=\"M120-120v-720h720v720H120Zm60-500h600v-160H180v160Zm220 220h160v-160H400v160Zm0 220h160v-160H400v160ZM180-400h160v-160H180v160Zm440 0h160v-160H620v160ZM180-180h160v-160H180v160Zm440 0h160v-160H620v160Z\"/>\n",
              "  </svg>\n",
              "    </button>\n",
              "\n",
              "  <style>\n",
              "    .colab-df-container {\n",
              "      display:flex;\n",
              "      gap: 12px;\n",
              "    }\n",
              "\n",
              "    .colab-df-convert {\n",
              "      background-color: #E8F0FE;\n",
              "      border: none;\n",
              "      border-radius: 50%;\n",
              "      cursor: pointer;\n",
              "      display: none;\n",
              "      fill: #1967D2;\n",
              "      height: 32px;\n",
              "      padding: 0 0 0 0;\n",
              "      width: 32px;\n",
              "    }\n",
              "\n",
              "    .colab-df-convert:hover {\n",
              "      background-color: #E2EBFA;\n",
              "      box-shadow: 0px 1px 2px rgba(60, 64, 67, 0.3), 0px 1px 3px 1px rgba(60, 64, 67, 0.15);\n",
              "      fill: #174EA6;\n",
              "    }\n",
              "\n",
              "    .colab-df-buttons div {\n",
              "      margin-bottom: 4px;\n",
              "    }\n",
              "\n",
              "    [theme=dark] .colab-df-convert {\n",
              "      background-color: #3B4455;\n",
              "      fill: #D2E3FC;\n",
              "    }\n",
              "\n",
              "    [theme=dark] .colab-df-convert:hover {\n",
              "      background-color: #434B5C;\n",
              "      box-shadow: 0px 1px 3px 1px rgba(0, 0, 0, 0.15);\n",
              "      filter: drop-shadow(0px 1px 2px rgba(0, 0, 0, 0.3));\n",
              "      fill: #FFFFFF;\n",
              "    }\n",
              "  </style>\n",
              "\n",
              "    <script>\n",
              "      const buttonEl =\n",
              "        document.querySelector('#df-c3cf5b0d-5125-4303-bcaf-425c9486d588 button.colab-df-convert');\n",
              "      buttonEl.style.display =\n",
              "        google.colab.kernel.accessAllowed ? 'block' : 'none';\n",
              "\n",
              "      async function convertToInteractive(key) {\n",
              "        const element = document.querySelector('#df-c3cf5b0d-5125-4303-bcaf-425c9486d588');\n",
              "        const dataTable =\n",
              "          await google.colab.kernel.invokeFunction('convertToInteractive',\n",
              "                                                    [key], {});\n",
              "        if (!dataTable) return;\n",
              "\n",
              "        const docLinkHtml = 'Like what you see? Visit the ' +\n",
              "          '<a target=\"_blank\" href=https://colab.research.google.com/notebooks/data_table.ipynb>data table notebook</a>'\n",
              "          + ' to learn more about interactive tables.';\n",
              "        element.innerHTML = '';\n",
              "        dataTable['output_type'] = 'display_data';\n",
              "        await google.colab.output.renderOutput(dataTable, element);\n",
              "        const docLink = document.createElement('div');\n",
              "        docLink.innerHTML = docLinkHtml;\n",
              "        element.appendChild(docLink);\n",
              "      }\n",
              "    </script>\n",
              "  </div>\n",
              "\n",
              "\n",
              "<div id=\"df-17afd574-0565-403d-b722-b55a9622ed43\">\n",
              "  <button class=\"colab-df-quickchart\" onclick=\"quickchart('df-17afd574-0565-403d-b722-b55a9622ed43')\"\n",
              "            title=\"Suggest charts\"\n",
              "            style=\"display:none;\">\n",
              "\n",
              "<svg xmlns=\"http://www.w3.org/2000/svg\" height=\"24px\"viewBox=\"0 0 24 24\"\n",
              "     width=\"24px\">\n",
              "    <g>\n",
              "        <path d=\"M19 3H5c-1.1 0-2 .9-2 2v14c0 1.1.9 2 2 2h14c1.1 0 2-.9 2-2V5c0-1.1-.9-2-2-2zM9 17H7v-7h2v7zm4 0h-2V7h2v10zm4 0h-2v-4h2v4z\"/>\n",
              "    </g>\n",
              "</svg>\n",
              "  </button>\n",
              "\n",
              "<style>\n",
              "  .colab-df-quickchart {\n",
              "      --bg-color: #E8F0FE;\n",
              "      --fill-color: #1967D2;\n",
              "      --hover-bg-color: #E2EBFA;\n",
              "      --hover-fill-color: #174EA6;\n",
              "      --disabled-fill-color: #AAA;\n",
              "      --disabled-bg-color: #DDD;\n",
              "  }\n",
              "\n",
              "  [theme=dark] .colab-df-quickchart {\n",
              "      --bg-color: #3B4455;\n",
              "      --fill-color: #D2E3FC;\n",
              "      --hover-bg-color: #434B5C;\n",
              "      --hover-fill-color: #FFFFFF;\n",
              "      --disabled-bg-color: #3B4455;\n",
              "      --disabled-fill-color: #666;\n",
              "  }\n",
              "\n",
              "  .colab-df-quickchart {\n",
              "    background-color: var(--bg-color);\n",
              "    border: none;\n",
              "    border-radius: 50%;\n",
              "    cursor: pointer;\n",
              "    display: none;\n",
              "    fill: var(--fill-color);\n",
              "    height: 32px;\n",
              "    padding: 0;\n",
              "    width: 32px;\n",
              "  }\n",
              "\n",
              "  .colab-df-quickchart:hover {\n",
              "    background-color: var(--hover-bg-color);\n",
              "    box-shadow: 0 1px 2px rgba(60, 64, 67, 0.3), 0 1px 3px 1px rgba(60, 64, 67, 0.15);\n",
              "    fill: var(--button-hover-fill-color);\n",
              "  }\n",
              "\n",
              "  .colab-df-quickchart-complete:disabled,\n",
              "  .colab-df-quickchart-complete:disabled:hover {\n",
              "    background-color: var(--disabled-bg-color);\n",
              "    fill: var(--disabled-fill-color);\n",
              "    box-shadow: none;\n",
              "  }\n",
              "\n",
              "  .colab-df-spinner {\n",
              "    border: 2px solid var(--fill-color);\n",
              "    border-color: transparent;\n",
              "    border-bottom-color: var(--fill-color);\n",
              "    animation:\n",
              "      spin 1s steps(1) infinite;\n",
              "  }\n",
              "\n",
              "  @keyframes spin {\n",
              "    0% {\n",
              "      border-color: transparent;\n",
              "      border-bottom-color: var(--fill-color);\n",
              "      border-left-color: var(--fill-color);\n",
              "    }\n",
              "    20% {\n",
              "      border-color: transparent;\n",
              "      border-left-color: var(--fill-color);\n",
              "      border-top-color: var(--fill-color);\n",
              "    }\n",
              "    30% {\n",
              "      border-color: transparent;\n",
              "      border-left-color: var(--fill-color);\n",
              "      border-top-color: var(--fill-color);\n",
              "      border-right-color: var(--fill-color);\n",
              "    }\n",
              "    40% {\n",
              "      border-color: transparent;\n",
              "      border-right-color: var(--fill-color);\n",
              "      border-top-color: var(--fill-color);\n",
              "    }\n",
              "    60% {\n",
              "      border-color: transparent;\n",
              "      border-right-color: var(--fill-color);\n",
              "    }\n",
              "    80% {\n",
              "      border-color: transparent;\n",
              "      border-right-color: var(--fill-color);\n",
              "      border-bottom-color: var(--fill-color);\n",
              "    }\n",
              "    90% {\n",
              "      border-color: transparent;\n",
              "      border-bottom-color: var(--fill-color);\n",
              "    }\n",
              "  }\n",
              "</style>\n",
              "\n",
              "  <script>\n",
              "    async function quickchart(key) {\n",
              "      const quickchartButtonEl =\n",
              "        document.querySelector('#' + key + ' button');\n",
              "      quickchartButtonEl.disabled = true;  // To prevent multiple clicks.\n",
              "      quickchartButtonEl.classList.add('colab-df-spinner');\n",
              "      try {\n",
              "        const charts = await google.colab.kernel.invokeFunction(\n",
              "            'suggestCharts', [key], {});\n",
              "      } catch (error) {\n",
              "        console.error('Error during call to suggestCharts:', error);\n",
              "      }\n",
              "      quickchartButtonEl.classList.remove('colab-df-spinner');\n",
              "      quickchartButtonEl.classList.add('colab-df-quickchart-complete');\n",
              "    }\n",
              "    (() => {\n",
              "      let quickchartButtonEl =\n",
              "        document.querySelector('#df-17afd574-0565-403d-b722-b55a9622ed43 button');\n",
              "      quickchartButtonEl.style.display =\n",
              "        google.colab.kernel.accessAllowed ? 'block' : 'none';\n",
              "    })();\n",
              "  </script>\n",
              "</div>\n",
              "\n",
              "    </div>\n",
              "  </div>\n"
            ],
            "application/vnd.google.colaboratory.intrinsic+json": {
              "type": "dataframe",
              "variable_name": "dataframe",
              "summary": "{\n  \"name\": \"dataframe\",\n  \"rows\": 1074,\n  \"fields\": [\n    {\n      \"column\": \"Edad\",\n      \"properties\": {\n        \"dtype\": \"number\",\n        \"std\": 14,\n        \"min\": 11,\n        \"max\": 90,\n        \"num_unique_values\": 69,\n        \"samples\": [\n          50,\n          37,\n          86\n        ],\n        \"semantic_type\": \"\",\n        \"description\": \"\"\n      }\n    },\n    {\n      \"column\": \"Sexo\",\n      \"properties\": {\n        \"dtype\": \"number\",\n        \"std\": 0,\n        \"min\": 0,\n        \"max\": 2,\n        \"num_unique_values\": 3,\n        \"samples\": [\n          1,\n          2,\n          0\n        ],\n        \"semantic_type\": \"\",\n        \"description\": \"\"\n      }\n    },\n    {\n      \"column\": \"IMC\",\n      \"properties\": {\n        \"dtype\": \"number\",\n        \"std\": 8.783116685477333,\n        \"min\": 18.08,\n        \"max\": 260.41,\n        \"num_unique_values\": 538,\n        \"samples\": [\n          38.2,\n          26.1,\n          47.33\n        ],\n        \"semantic_type\": \"\",\n        \"description\": \"\"\n      }\n    },\n    {\n      \"column\": \"CintCad\",\n      \"properties\": {\n        \"dtype\": \"number\",\n        \"std\": 0.1046556534150398,\n        \"min\": 0.01,\n        \"max\": 1.42,\n        \"num_unique_values\": 63,\n        \"samples\": [\n          1.28,\n          0.74,\n          0.87\n        ],\n        \"semantic_type\": \"\",\n        \"description\": \"\"\n      }\n    },\n    {\n      \"column\": \"GrasCorp\",\n      \"properties\": {\n        \"dtype\": \"number\",\n        \"std\": 10.818743374685077,\n        \"min\": 7.0,\n        \"max\": 50.4,\n        \"num_unique_values\": 777,\n        \"samples\": [\n          21.79,\n          48.39,\n          14.37\n        ],\n        \"semantic_type\": \"\",\n        \"description\": \"\"\n      }\n    },\n    {\n      \"column\": \"Cigarrillos\",\n      \"properties\": {\n        \"dtype\": \"number\",\n        \"std\": 0,\n        \"min\": 1,\n        \"max\": 7,\n        \"num_unique_values\": 7,\n        \"samples\": [\n          5,\n          7,\n          2\n        ],\n        \"semantic_type\": \"\",\n        \"description\": \"\"\n      }\n    },\n    {\n      \"column\": \"Alcohol\",\n      \"properties\": {\n        \"dtype\": \"number\",\n        \"std\": 0,\n        \"min\": 0,\n        \"max\": 1,\n        \"num_unique_values\": 2,\n        \"samples\": [\n          0,\n          1\n        ],\n        \"semantic_type\": \"\",\n        \"description\": \"\"\n      }\n    },\n    {\n      \"column\": \"Piel\",\n      \"properties\": {\n        \"dtype\": \"number\",\n        \"std\": 1,\n        \"min\": 1,\n        \"max\": 6,\n        \"num_unique_values\": 6,\n        \"samples\": [\n          4,\n          3\n        ],\n        \"semantic_type\": \"\",\n        \"description\": \"\"\n      }\n    },\n    {\n      \"column\": \"Diabetes\",\n      \"properties\": {\n        \"dtype\": \"number\",\n        \"std\": 0,\n        \"min\": 0,\n        \"max\": 1,\n        \"num_unique_values\": 2,\n        \"samples\": [\n          1,\n          0\n        ],\n        \"semantic_type\": \"\",\n        \"description\": \"\"\n      }\n    },\n    {\n      \"column\": \"MasaMusc\",\n      \"properties\": {\n        \"dtype\": \"number\",\n        \"std\": 18.102313177492295,\n        \"min\": 13.6,\n        \"max\": 419.25,\n        \"num_unique_values\": 675,\n        \"samples\": [\n          40.65,\n          33.12\n        ],\n        \"semantic_type\": \"\",\n        \"description\": \"\"\n      }\n    },\n    {\n      \"column\": \"ActFisica\",\n      \"properties\": {\n        \"dtype\": \"number\",\n        \"std\": 0,\n        \"min\": 0,\n        \"max\": 2,\n        \"num_unique_values\": 3,\n        \"samples\": [\n          0,\n          1\n        ],\n        \"semantic_type\": \"\",\n        \"description\": \"\"\n      }\n    },\n    {\n      \"column\": \"Trabajo\",\n      \"properties\": {\n        \"dtype\": \"number\",\n        \"std\": 0,\n        \"min\": 1,\n        \"max\": 3,\n        \"num_unique_values\": 3,\n        \"samples\": [\n          1,\n          2\n        ],\n        \"semantic_type\": \"\",\n        \"description\": \"\"\n      }\n    },\n    {\n      \"column\": \"Farmacos\",\n      \"properties\": {\n        \"dtype\": \"number\",\n        \"std\": 2,\n        \"min\": 1,\n        \"max\": 8,\n        \"num_unique_values\": 8,\n        \"samples\": [\n          4,\n          3\n        ],\n        \"semantic_type\": \"\",\n        \"description\": \"\"\n      }\n    },\n    {\n      \"column\": \"ProtectorSolar\",\n      \"properties\": {\n        \"dtype\": \"number\",\n        \"std\": 1,\n        \"min\": 1,\n        \"max\": 5,\n        \"num_unique_values\": 5,\n        \"samples\": [\n          2,\n          4\n        ],\n        \"semantic_type\": \"\",\n        \"description\": \"\"\n      }\n    },\n    {\n      \"column\": \"ExposicionDias\",\n      \"properties\": {\n        \"dtype\": \"number\",\n        \"std\": 2,\n        \"min\": 0,\n        \"max\": 10,\n        \"num_unique_values\": 11,\n        \"samples\": [\n          3,\n          2\n        ],\n        \"semantic_type\": \"\",\n        \"description\": \"\"\n      }\n    },\n    {\n      \"column\": \"ExposicionMinutos\",\n      \"properties\": {\n        \"dtype\": \"number\",\n        \"std\": 965,\n        \"min\": 0,\n        \"max\": 3000,\n        \"num_unique_values\": 618,\n        \"samples\": [\n          840,\n          1257\n        ],\n        \"semantic_type\": \"\",\n        \"description\": \"\"\n      }\n    },\n    {\n      \"column\": \"VitaminaD\",\n      \"properties\": {\n        \"dtype\": \"number\",\n        \"std\": 12.236050933601222,\n        \"min\": 1.16,\n        \"max\": 70.0,\n        \"num_unique_values\": 454,\n        \"samples\": [\n          21.34,\n          17.3\n        ],\n        \"semantic_type\": \"\",\n        \"description\": \"\"\n      }\n    }\n  ]\n}"
            }
          },
          "metadata": {},
          "execution_count": 31
        }
      ],
      "source": [
        "dataframe = pd.read_csv(r\"/content/BDSeleccionadaV3.csv\")\n",
        "dataframe.head()"
      ]
    },
    {
      "cell_type": "code",
      "execution_count": null,
      "metadata": {
        "colab": {
          "base_uri": "https://localhost:8080/",
          "height": 320
        },
        "id": "UNHyqp2zHZYw",
        "outputId": "aad76124-a44b-460d-ebb1-8d0ef8df84d5"
      },
      "outputs": [
        {
          "output_type": "execute_result",
          "data": {
            "text/plain": [
              "              Edad         Sexo          IMC      CintCad     GrasCorp  \\\n",
              "count  1074.000000  1074.000000  1074.000000  1074.000000  1074.000000   \n",
              "mean     52.101490     0.887337    28.874888     0.957458    26.653492   \n",
              "std      14.535362     0.671180     8.783117     0.104656    10.818743   \n",
              "min      11.000000     0.000000    18.080000     0.010000     7.000000   \n",
              "25%      40.000000     0.000000    25.485000     0.890000    18.412500   \n",
              "50%      51.000000     1.000000    27.900000     0.940000    24.800000   \n",
              "75%      63.000000     1.000000    31.050000     1.000000    34.105000   \n",
              "max      90.000000     2.000000   260.410000     1.420000    50.400000   \n",
              "\n",
              "       Cigarrillos      Alcohol         Piel     Diabetes     MasaMusc  \\\n",
              "count  1074.000000  1074.000000  1074.000000  1074.000000  1074.000000   \n",
              "mean      6.824022     0.387337     4.189944     0.265363    38.802700   \n",
              "std       0.787685     0.487369     1.141952     0.441732    18.102313   \n",
              "min       1.000000     0.000000     1.000000     0.000000    13.600000   \n",
              "25%       7.000000     0.000000     3.000000     0.000000    25.600000   \n",
              "50%       7.000000     0.000000     4.000000     0.000000    39.750000   \n",
              "75%       7.000000     1.000000     5.000000     1.000000    48.507500   \n",
              "max       7.000000     1.000000     6.000000     1.000000   419.250000   \n",
              "\n",
              "         ActFisica      Trabajo     Farmacos  ProtectorSolar  ExposicionDias  \\\n",
              "count  1074.000000  1074.000000  1074.000000     1074.000000     1074.000000   \n",
              "mean      0.631285     1.606145     4.665736        2.850093        4.286778   \n",
              "std       0.528753     0.791615     2.472401        1.535800        2.988900   \n",
              "min       0.000000     1.000000     1.000000        1.000000        0.000000   \n",
              "25%       0.000000     1.000000     2.000000        1.000000        2.000000   \n",
              "50%       1.000000     1.000000     4.000000        3.000000        4.000000   \n",
              "75%       1.000000     2.000000     7.000000        4.000000        7.000000   \n",
              "max       2.000000     3.000000     8.000000        5.000000       10.000000   \n",
              "\n",
              "       ExposicionMinutos    VitaminaD  \n",
              "count        1074.000000  1074.000000  \n",
              "mean          935.679702    26.048371  \n",
              "std           965.905969    12.236051  \n",
              "min             0.000000     1.160000  \n",
              "25%            60.000000    17.000000  \n",
              "50%           550.500000    23.000000  \n",
              "75%          1765.750000    33.000000  \n",
              "max          3000.000000    70.000000  "
            ],
            "text/html": [
              "\n",
              "  <div id=\"df-28b71d16-653e-4495-bd08-2a863cd91bff\" class=\"colab-df-container\">\n",
              "    <div>\n",
              "<style scoped>\n",
              "    .dataframe tbody tr th:only-of-type {\n",
              "        vertical-align: middle;\n",
              "    }\n",
              "\n",
              "    .dataframe tbody tr th {\n",
              "        vertical-align: top;\n",
              "    }\n",
              "\n",
              "    .dataframe thead th {\n",
              "        text-align: right;\n",
              "    }\n",
              "</style>\n",
              "<table border=\"1\" class=\"dataframe\">\n",
              "  <thead>\n",
              "    <tr style=\"text-align: right;\">\n",
              "      <th></th>\n",
              "      <th>Edad</th>\n",
              "      <th>Sexo</th>\n",
              "      <th>IMC</th>\n",
              "      <th>CintCad</th>\n",
              "      <th>GrasCorp</th>\n",
              "      <th>Cigarrillos</th>\n",
              "      <th>Alcohol</th>\n",
              "      <th>Piel</th>\n",
              "      <th>Diabetes</th>\n",
              "      <th>MasaMusc</th>\n",
              "      <th>ActFisica</th>\n",
              "      <th>Trabajo</th>\n",
              "      <th>Farmacos</th>\n",
              "      <th>ProtectorSolar</th>\n",
              "      <th>ExposicionDias</th>\n",
              "      <th>ExposicionMinutos</th>\n",
              "      <th>VitaminaD</th>\n",
              "    </tr>\n",
              "  </thead>\n",
              "  <tbody>\n",
              "    <tr>\n",
              "      <th>count</th>\n",
              "      <td>1074.000000</td>\n",
              "      <td>1074.000000</td>\n",
              "      <td>1074.000000</td>\n",
              "      <td>1074.000000</td>\n",
              "      <td>1074.000000</td>\n",
              "      <td>1074.000000</td>\n",
              "      <td>1074.000000</td>\n",
              "      <td>1074.000000</td>\n",
              "      <td>1074.000000</td>\n",
              "      <td>1074.000000</td>\n",
              "      <td>1074.000000</td>\n",
              "      <td>1074.000000</td>\n",
              "      <td>1074.000000</td>\n",
              "      <td>1074.000000</td>\n",
              "      <td>1074.000000</td>\n",
              "      <td>1074.000000</td>\n",
              "      <td>1074.000000</td>\n",
              "    </tr>\n",
              "    <tr>\n",
              "      <th>mean</th>\n",
              "      <td>52.101490</td>\n",
              "      <td>0.887337</td>\n",
              "      <td>28.874888</td>\n",
              "      <td>0.957458</td>\n",
              "      <td>26.653492</td>\n",
              "      <td>6.824022</td>\n",
              "      <td>0.387337</td>\n",
              "      <td>4.189944</td>\n",
              "      <td>0.265363</td>\n",
              "      <td>38.802700</td>\n",
              "      <td>0.631285</td>\n",
              "      <td>1.606145</td>\n",
              "      <td>4.665736</td>\n",
              "      <td>2.850093</td>\n",
              "      <td>4.286778</td>\n",
              "      <td>935.679702</td>\n",
              "      <td>26.048371</td>\n",
              "    </tr>\n",
              "    <tr>\n",
              "      <th>std</th>\n",
              "      <td>14.535362</td>\n",
              "      <td>0.671180</td>\n",
              "      <td>8.783117</td>\n",
              "      <td>0.104656</td>\n",
              "      <td>10.818743</td>\n",
              "      <td>0.787685</td>\n",
              "      <td>0.487369</td>\n",
              "      <td>1.141952</td>\n",
              "      <td>0.441732</td>\n",
              "      <td>18.102313</td>\n",
              "      <td>0.528753</td>\n",
              "      <td>0.791615</td>\n",
              "      <td>2.472401</td>\n",
              "      <td>1.535800</td>\n",
              "      <td>2.988900</td>\n",
              "      <td>965.905969</td>\n",
              "      <td>12.236051</td>\n",
              "    </tr>\n",
              "    <tr>\n",
              "      <th>min</th>\n",
              "      <td>11.000000</td>\n",
              "      <td>0.000000</td>\n",
              "      <td>18.080000</td>\n",
              "      <td>0.010000</td>\n",
              "      <td>7.000000</td>\n",
              "      <td>1.000000</td>\n",
              "      <td>0.000000</td>\n",
              "      <td>1.000000</td>\n",
              "      <td>0.000000</td>\n",
              "      <td>13.600000</td>\n",
              "      <td>0.000000</td>\n",
              "      <td>1.000000</td>\n",
              "      <td>1.000000</td>\n",
              "      <td>1.000000</td>\n",
              "      <td>0.000000</td>\n",
              "      <td>0.000000</td>\n",
              "      <td>1.160000</td>\n",
              "    </tr>\n",
              "    <tr>\n",
              "      <th>25%</th>\n",
              "      <td>40.000000</td>\n",
              "      <td>0.000000</td>\n",
              "      <td>25.485000</td>\n",
              "      <td>0.890000</td>\n",
              "      <td>18.412500</td>\n",
              "      <td>7.000000</td>\n",
              "      <td>0.000000</td>\n",
              "      <td>3.000000</td>\n",
              "      <td>0.000000</td>\n",
              "      <td>25.600000</td>\n",
              "      <td>0.000000</td>\n",
              "      <td>1.000000</td>\n",
              "      <td>2.000000</td>\n",
              "      <td>1.000000</td>\n",
              "      <td>2.000000</td>\n",
              "      <td>60.000000</td>\n",
              "      <td>17.000000</td>\n",
              "    </tr>\n",
              "    <tr>\n",
              "      <th>50%</th>\n",
              "      <td>51.000000</td>\n",
              "      <td>1.000000</td>\n",
              "      <td>27.900000</td>\n",
              "      <td>0.940000</td>\n",
              "      <td>24.800000</td>\n",
              "      <td>7.000000</td>\n",
              "      <td>0.000000</td>\n",
              "      <td>4.000000</td>\n",
              "      <td>0.000000</td>\n",
              "      <td>39.750000</td>\n",
              "      <td>1.000000</td>\n",
              "      <td>1.000000</td>\n",
              "      <td>4.000000</td>\n",
              "      <td>3.000000</td>\n",
              "      <td>4.000000</td>\n",
              "      <td>550.500000</td>\n",
              "      <td>23.000000</td>\n",
              "    </tr>\n",
              "    <tr>\n",
              "      <th>75%</th>\n",
              "      <td>63.000000</td>\n",
              "      <td>1.000000</td>\n",
              "      <td>31.050000</td>\n",
              "      <td>1.000000</td>\n",
              "      <td>34.105000</td>\n",
              "      <td>7.000000</td>\n",
              "      <td>1.000000</td>\n",
              "      <td>5.000000</td>\n",
              "      <td>1.000000</td>\n",
              "      <td>48.507500</td>\n",
              "      <td>1.000000</td>\n",
              "      <td>2.000000</td>\n",
              "      <td>7.000000</td>\n",
              "      <td>4.000000</td>\n",
              "      <td>7.000000</td>\n",
              "      <td>1765.750000</td>\n",
              "      <td>33.000000</td>\n",
              "    </tr>\n",
              "    <tr>\n",
              "      <th>max</th>\n",
              "      <td>90.000000</td>\n",
              "      <td>2.000000</td>\n",
              "      <td>260.410000</td>\n",
              "      <td>1.420000</td>\n",
              "      <td>50.400000</td>\n",
              "      <td>7.000000</td>\n",
              "      <td>1.000000</td>\n",
              "      <td>6.000000</td>\n",
              "      <td>1.000000</td>\n",
              "      <td>419.250000</td>\n",
              "      <td>2.000000</td>\n",
              "      <td>3.000000</td>\n",
              "      <td>8.000000</td>\n",
              "      <td>5.000000</td>\n",
              "      <td>10.000000</td>\n",
              "      <td>3000.000000</td>\n",
              "      <td>70.000000</td>\n",
              "    </tr>\n",
              "  </tbody>\n",
              "</table>\n",
              "</div>\n",
              "    <div class=\"colab-df-buttons\">\n",
              "\n",
              "  <div class=\"colab-df-container\">\n",
              "    <button class=\"colab-df-convert\" onclick=\"convertToInteractive('df-28b71d16-653e-4495-bd08-2a863cd91bff')\"\n",
              "            title=\"Convert this dataframe to an interactive table.\"\n",
              "            style=\"display:none;\">\n",
              "\n",
              "  <svg xmlns=\"http://www.w3.org/2000/svg\" height=\"24px\" viewBox=\"0 -960 960 960\">\n",
              "    <path d=\"M120-120v-720h720v720H120Zm60-500h600v-160H180v160Zm220 220h160v-160H400v160Zm0 220h160v-160H400v160ZM180-400h160v-160H180v160Zm440 0h160v-160H620v160ZM180-180h160v-160H180v160Zm440 0h160v-160H620v160Z\"/>\n",
              "  </svg>\n",
              "    </button>\n",
              "\n",
              "  <style>\n",
              "    .colab-df-container {\n",
              "      display:flex;\n",
              "      gap: 12px;\n",
              "    }\n",
              "\n",
              "    .colab-df-convert {\n",
              "      background-color: #E8F0FE;\n",
              "      border: none;\n",
              "      border-radius: 50%;\n",
              "      cursor: pointer;\n",
              "      display: none;\n",
              "      fill: #1967D2;\n",
              "      height: 32px;\n",
              "      padding: 0 0 0 0;\n",
              "      width: 32px;\n",
              "    }\n",
              "\n",
              "    .colab-df-convert:hover {\n",
              "      background-color: #E2EBFA;\n",
              "      box-shadow: 0px 1px 2px rgba(60, 64, 67, 0.3), 0px 1px 3px 1px rgba(60, 64, 67, 0.15);\n",
              "      fill: #174EA6;\n",
              "    }\n",
              "\n",
              "    .colab-df-buttons div {\n",
              "      margin-bottom: 4px;\n",
              "    }\n",
              "\n",
              "    [theme=dark] .colab-df-convert {\n",
              "      background-color: #3B4455;\n",
              "      fill: #D2E3FC;\n",
              "    }\n",
              "\n",
              "    [theme=dark] .colab-df-convert:hover {\n",
              "      background-color: #434B5C;\n",
              "      box-shadow: 0px 1px 3px 1px rgba(0, 0, 0, 0.15);\n",
              "      filter: drop-shadow(0px 1px 2px rgba(0, 0, 0, 0.3));\n",
              "      fill: #FFFFFF;\n",
              "    }\n",
              "  </style>\n",
              "\n",
              "    <script>\n",
              "      const buttonEl =\n",
              "        document.querySelector('#df-28b71d16-653e-4495-bd08-2a863cd91bff button.colab-df-convert');\n",
              "      buttonEl.style.display =\n",
              "        google.colab.kernel.accessAllowed ? 'block' : 'none';\n",
              "\n",
              "      async function convertToInteractive(key) {\n",
              "        const element = document.querySelector('#df-28b71d16-653e-4495-bd08-2a863cd91bff');\n",
              "        const dataTable =\n",
              "          await google.colab.kernel.invokeFunction('convertToInteractive',\n",
              "                                                    [key], {});\n",
              "        if (!dataTable) return;\n",
              "\n",
              "        const docLinkHtml = 'Like what you see? Visit the ' +\n",
              "          '<a target=\"_blank\" href=https://colab.research.google.com/notebooks/data_table.ipynb>data table notebook</a>'\n",
              "          + ' to learn more about interactive tables.';\n",
              "        element.innerHTML = '';\n",
              "        dataTable['output_type'] = 'display_data';\n",
              "        await google.colab.output.renderOutput(dataTable, element);\n",
              "        const docLink = document.createElement('div');\n",
              "        docLink.innerHTML = docLinkHtml;\n",
              "        element.appendChild(docLink);\n",
              "      }\n",
              "    </script>\n",
              "  </div>\n",
              "\n",
              "\n",
              "<div id=\"df-0b484304-2938-4571-af1e-e04f110ee3d6\">\n",
              "  <button class=\"colab-df-quickchart\" onclick=\"quickchart('df-0b484304-2938-4571-af1e-e04f110ee3d6')\"\n",
              "            title=\"Suggest charts\"\n",
              "            style=\"display:none;\">\n",
              "\n",
              "<svg xmlns=\"http://www.w3.org/2000/svg\" height=\"24px\"viewBox=\"0 0 24 24\"\n",
              "     width=\"24px\">\n",
              "    <g>\n",
              "        <path d=\"M19 3H5c-1.1 0-2 .9-2 2v14c0 1.1.9 2 2 2h14c1.1 0 2-.9 2-2V5c0-1.1-.9-2-2-2zM9 17H7v-7h2v7zm4 0h-2V7h2v10zm4 0h-2v-4h2v4z\"/>\n",
              "    </g>\n",
              "</svg>\n",
              "  </button>\n",
              "\n",
              "<style>\n",
              "  .colab-df-quickchart {\n",
              "      --bg-color: #E8F0FE;\n",
              "      --fill-color: #1967D2;\n",
              "      --hover-bg-color: #E2EBFA;\n",
              "      --hover-fill-color: #174EA6;\n",
              "      --disabled-fill-color: #AAA;\n",
              "      --disabled-bg-color: #DDD;\n",
              "  }\n",
              "\n",
              "  [theme=dark] .colab-df-quickchart {\n",
              "      --bg-color: #3B4455;\n",
              "      --fill-color: #D2E3FC;\n",
              "      --hover-bg-color: #434B5C;\n",
              "      --hover-fill-color: #FFFFFF;\n",
              "      --disabled-bg-color: #3B4455;\n",
              "      --disabled-fill-color: #666;\n",
              "  }\n",
              "\n",
              "  .colab-df-quickchart {\n",
              "    background-color: var(--bg-color);\n",
              "    border: none;\n",
              "    border-radius: 50%;\n",
              "    cursor: pointer;\n",
              "    display: none;\n",
              "    fill: var(--fill-color);\n",
              "    height: 32px;\n",
              "    padding: 0;\n",
              "    width: 32px;\n",
              "  }\n",
              "\n",
              "  .colab-df-quickchart:hover {\n",
              "    background-color: var(--hover-bg-color);\n",
              "    box-shadow: 0 1px 2px rgba(60, 64, 67, 0.3), 0 1px 3px 1px rgba(60, 64, 67, 0.15);\n",
              "    fill: var(--button-hover-fill-color);\n",
              "  }\n",
              "\n",
              "  .colab-df-quickchart-complete:disabled,\n",
              "  .colab-df-quickchart-complete:disabled:hover {\n",
              "    background-color: var(--disabled-bg-color);\n",
              "    fill: var(--disabled-fill-color);\n",
              "    box-shadow: none;\n",
              "  }\n",
              "\n",
              "  .colab-df-spinner {\n",
              "    border: 2px solid var(--fill-color);\n",
              "    border-color: transparent;\n",
              "    border-bottom-color: var(--fill-color);\n",
              "    animation:\n",
              "      spin 1s steps(1) infinite;\n",
              "  }\n",
              "\n",
              "  @keyframes spin {\n",
              "    0% {\n",
              "      border-color: transparent;\n",
              "      border-bottom-color: var(--fill-color);\n",
              "      border-left-color: var(--fill-color);\n",
              "    }\n",
              "    20% {\n",
              "      border-color: transparent;\n",
              "      border-left-color: var(--fill-color);\n",
              "      border-top-color: var(--fill-color);\n",
              "    }\n",
              "    30% {\n",
              "      border-color: transparent;\n",
              "      border-left-color: var(--fill-color);\n",
              "      border-top-color: var(--fill-color);\n",
              "      border-right-color: var(--fill-color);\n",
              "    }\n",
              "    40% {\n",
              "      border-color: transparent;\n",
              "      border-right-color: var(--fill-color);\n",
              "      border-top-color: var(--fill-color);\n",
              "    }\n",
              "    60% {\n",
              "      border-color: transparent;\n",
              "      border-right-color: var(--fill-color);\n",
              "    }\n",
              "    80% {\n",
              "      border-color: transparent;\n",
              "      border-right-color: var(--fill-color);\n",
              "      border-bottom-color: var(--fill-color);\n",
              "    }\n",
              "    90% {\n",
              "      border-color: transparent;\n",
              "      border-bottom-color: var(--fill-color);\n",
              "    }\n",
              "  }\n",
              "</style>\n",
              "\n",
              "  <script>\n",
              "    async function quickchart(key) {\n",
              "      const quickchartButtonEl =\n",
              "        document.querySelector('#' + key + ' button');\n",
              "      quickchartButtonEl.disabled = true;  // To prevent multiple clicks.\n",
              "      quickchartButtonEl.classList.add('colab-df-spinner');\n",
              "      try {\n",
              "        const charts = await google.colab.kernel.invokeFunction(\n",
              "            'suggestCharts', [key], {});\n",
              "      } catch (error) {\n",
              "        console.error('Error during call to suggestCharts:', error);\n",
              "      }\n",
              "      quickchartButtonEl.classList.remove('colab-df-spinner');\n",
              "      quickchartButtonEl.classList.add('colab-df-quickchart-complete');\n",
              "    }\n",
              "    (() => {\n",
              "      let quickchartButtonEl =\n",
              "        document.querySelector('#df-0b484304-2938-4571-af1e-e04f110ee3d6 button');\n",
              "      quickchartButtonEl.style.display =\n",
              "        google.colab.kernel.accessAllowed ? 'block' : 'none';\n",
              "    })();\n",
              "  </script>\n",
              "</div>\n",
              "\n",
              "    </div>\n",
              "  </div>\n"
            ],
            "application/vnd.google.colaboratory.intrinsic+json": {
              "type": "dataframe",
              "summary": "{\n  \"name\": \"dataframe\",\n  \"rows\": 8,\n  \"fields\": [\n    {\n      \"column\": \"Edad\",\n      \"properties\": {\n        \"dtype\": \"number\",\n        \"std\": 364.36197942895905,\n        \"min\": 11.0,\n        \"max\": 1074.0,\n        \"num_unique_values\": 8,\n        \"samples\": [\n          52.10148975791434,\n          51.0,\n          1074.0\n        ],\n        \"semantic_type\": \"\",\n        \"description\": \"\"\n      }\n    },\n    {\n      \"column\": \"Sexo\",\n      \"properties\": {\n        \"dtype\": \"number\",\n        \"std\": 379.43612560288204,\n        \"min\": 0.0,\n        \"max\": 1074.0,\n        \"num_unique_values\": 6,\n        \"samples\": [\n          1074.0,\n          0.8873370577281192,\n          2.0\n        ],\n        \"semantic_type\": \"\",\n        \"description\": \"\"\n      }\n    },\n    {\n      \"column\": \"IMC\",\n      \"properties\": {\n        \"dtype\": \"number\",\n        \"std\": 368.998601376356,\n        \"min\": 8.783116685477333,\n        \"max\": 1074.0,\n        \"num_unique_values\": 8,\n        \"samples\": [\n          28.874888268156422,\n          27.9,\n          1074.0\n        ],\n        \"semantic_type\": \"\",\n        \"description\": \"\"\n      }\n    },\n    {\n      \"column\": \"CintCad\",\n      \"properties\": {\n        \"dtype\": \"number\",\n        \"std\": 379.44783035428634,\n        \"min\": 0.01,\n        \"max\": 1074.0,\n        \"num_unique_values\": 8,\n        \"samples\": [\n          0.9574581005586592,\n          0.94,\n          1074.0\n        ],\n        \"semantic_type\": \"\",\n        \"description\": \"\"\n      }\n    },\n    {\n      \"column\": \"GrasCorp\",\n      \"properties\": {\n        \"dtype\": \"number\",\n        \"std\": 371.26929349659014,\n        \"min\": 7.0,\n        \"max\": 1074.0,\n        \"num_unique_values\": 8,\n        \"samples\": [\n          26.65349162011173,\n          24.8,\n          1074.0\n        ],\n        \"semantic_type\": \"\",\n        \"description\": \"\"\n      }\n    },\n    {\n      \"column\": \"Cigarrillos\",\n      \"properties\": {\n        \"dtype\": \"number\",\n        \"std\": 377.8771327496269,\n        \"min\": 0.7876849320358228,\n        \"max\": 1074.0,\n        \"num_unique_values\": 5,\n        \"samples\": [\n          6.824022346368715,\n          7.0,\n          0.7876849320358228\n        ],\n        \"semantic_type\": \"\",\n        \"description\": \"\"\n      }\n    },\n    {\n      \"column\": \"Alcohol\",\n      \"properties\": {\n        \"dtype\": \"number\",\n        \"std\": 379.57137406700963,\n        \"min\": 0.0,\n        \"max\": 1074.0,\n        \"num_unique_values\": 5,\n        \"samples\": [\n          0.38733705772811916,\n          1.0,\n          0.4873686732424066\n        ],\n        \"semantic_type\": \"\",\n        \"description\": \"\"\n      }\n    },\n    {\n      \"column\": \"Piel\",\n      \"properties\": {\n        \"dtype\": \"number\",\n        \"std\": 378.49141154825804,\n        \"min\": 1.0,\n        \"max\": 1074.0,\n        \"num_unique_values\": 8,\n        \"samples\": [\n          4.189944134078212,\n          4.0,\n          1074.0\n        ],\n        \"semantic_type\": \"\",\n        \"description\": \"\"\n      }\n    },\n    {\n      \"column\": \"Diabetes\",\n      \"properties\": {\n        \"dtype\": \"number\",\n        \"std\": 379.5798418625139,\n        \"min\": 0.0,\n        \"max\": 1074.0,\n        \"num_unique_values\": 5,\n        \"samples\": [\n          0.26536312849162014,\n          1.0,\n          0.441732069506043\n        ],\n        \"semantic_type\": \"\",\n        \"description\": \"\"\n      }\n    },\n    {\n      \"column\": \"MasaMusc\",\n      \"properties\": {\n        \"dtype\": \"number\",\n        \"std\": 374.93909938168696,\n        \"min\": 13.6,\n        \"max\": 1074.0,\n        \"num_unique_values\": 8,\n        \"samples\": [\n          38.80270018621974,\n          39.75,\n          1074.0\n        ],\n        \"semantic_type\": \"\",\n        \"description\": \"\"\n      }\n    },\n    {\n      \"column\": \"ActFisica\",\n      \"properties\": {\n        \"dtype\": \"number\",\n        \"std\": 379.4562613088001,\n        \"min\": 0.0,\n        \"max\": 1074.0,\n        \"num_unique_values\": 6,\n        \"samples\": [\n          1074.0,\n          0.6312849162011173,\n          2.0\n        ],\n        \"semantic_type\": \"\",\n        \"description\": \"\"\n      }\n    },\n    {\n      \"column\": \"Trabajo\",\n      \"properties\": {\n        \"dtype\": \"number\",\n        \"std\": 379.19188388923425,\n        \"min\": 0.7916146283360965,\n        \"max\": 1074.0,\n        \"num_unique_values\": 6,\n        \"samples\": [\n          1074.0,\n          1.606145251396648,\n          3.0\n        ],\n        \"semantic_type\": \"\",\n        \"description\": \"\"\n      }\n    },\n    {\n      \"column\": \"Farmacos\",\n      \"properties\": {\n        \"dtype\": \"number\",\n        \"std\": 378.2523087062236,\n        \"min\": 1.0,\n        \"max\": 1074.0,\n        \"num_unique_values\": 8,\n        \"samples\": [\n          4.665735567970205,\n          4.0,\n          1074.0\n        ],\n        \"semantic_type\": \"\",\n        \"description\": \"\"\n      }\n    },\n    {\n      \"column\": \"ProtectorSolar\",\n      \"properties\": {\n        \"dtype\": \"number\",\n        \"std\": 378.79038951315727,\n        \"min\": 1.0,\n        \"max\": 1074.0,\n        \"num_unique_values\": 7,\n        \"samples\": [\n          1074.0,\n          2.850093109869646,\n          4.0\n        ],\n        \"semantic_type\": \"\",\n        \"description\": \"\"\n      }\n    },\n    {\n      \"column\": \"ExposicionDias\",\n      \"properties\": {\n        \"dtype\": \"number\",\n        \"std\": 378.1995341042271,\n        \"min\": 0.0,\n        \"max\": 1074.0,\n        \"num_unique_values\": 8,\n        \"samples\": [\n          4.286778398510242,\n          4.0,\n          1074.0\n        ],\n        \"semantic_type\": \"\",\n        \"description\": \"\"\n      }\n    },\n    {\n      \"column\": \"ExposicionMinutos\",\n      \"properties\": {\n        \"dtype\": \"number\",\n        \"std\": 975.9482768607508,\n        \"min\": 0.0,\n        \"max\": 3000.0,\n        \"num_unique_values\": 8,\n        \"samples\": [\n          935.6797020484171,\n          550.5,\n          1074.0\n        ],\n        \"semantic_type\": \"\",\n        \"description\": \"\"\n      }\n    },\n    {\n      \"column\": \"VitaminaD\",\n      \"properties\": {\n        \"dtype\": \"number\",\n        \"std\": 371.05660159468044,\n        \"min\": 1.16,\n        \"max\": 1074.0,\n        \"num_unique_values\": 8,\n        \"samples\": [\n          26.048370577281194,\n          23.0,\n          1074.0\n        ],\n        \"semantic_type\": \"\",\n        \"description\": \"\"\n      }\n    }\n  ]\n}"
            }
          },
          "metadata": {},
          "execution_count": 32
        }
      ],
      "source": [
        "dataframe.describe()"
      ]
    },
    {
      "cell_type": "code",
      "source": [
        "import matplotlib.pyplot as plt\n",
        "import seaborn as sns\n",
        "\n",
        "# Configurando el estilo de los gráficos\n",
        "sns.set(style=\"whitegrid\")\n",
        "\n",
        "# Creando la figura y el eje para el gráfico\n",
        "fig, ax = plt.subplots(figsize=(10, 6))\n",
        "\n",
        "# Gráfico de distribución de los niveles de Vitamina D\n",
        "sns.histplot(dataframe['VitaminaD'], bins=30, kde=True, ax=ax)\n",
        "\n",
        "ax.set_title('Distribución de los Niveles de Vitamina D')\n",
        "ax.set_xlabel('Niveles de Vitamina D')\n",
        "ax.set_ylabel('Frecuencia')\n",
        "\n",
        "plt.show()"
      ],
      "metadata": {
        "colab": {
          "base_uri": "https://localhost:8080/",
          "height": 573
        },
        "id": "TnIjZox82E54",
        "outputId": "909b42b5-50f6-4029-b79d-1b2cf9f149ba"
      },
      "execution_count": null,
      "outputs": [
        {
          "output_type": "display_data",
          "data": {
            "text/plain": [
              "<Figure size 1000x600 with 1 Axes>"
            ],
            "image/png": "[encoded data removed]"
          },
          "metadata": {}
        }
      ]
    },
    {
      "cell_type": "code",
      "source": [
        "import matplotlib.pyplot as plt\n",
        "import seaborn as sns\n",
        "\n",
        "def categorizar_vitamina_d_binario(valor):\n",
        "    if valor < 20:\n",
        "        return 0\n",
        "    #elif valor < 20:\n",
        "    #    return 1\n",
        "    else:\n",
        "        return 1\n",
        "\n",
        "dataframe['CategoriaVitaD'] = dataframe['VitaminaD'].apply(categorizar_vitamina_d_binario)\n",
        "dataframe['CategoriaVitaD'] = dataframe['CategoriaVitaD'].astype(int)\n",
        "print(dataframe.head())\n",
        "\n",
        "# Generamos la gráfica para visualizar la distribución de los datos en 'CategoriaVitaD'\n",
        "plt.figure(figsize=(8, 6))\n",
        "sns.countplot(x='CategoriaVitaD', data=dataframe)\n",
        "plt.title('Distribución de los Niveles de Vitamina D Categorizados')\n",
        "plt.xlabel('Categoría de Vitamina D')\n",
        "plt.ylabel('Conteo')\n",
        "plt.show()"
      ],
      "metadata": {
        "colab": {
          "base_uri": "https://localhost:8080/",
          "height": 921
        },
        "id": "1qI7jovnS6cp",
        "outputId": "25f02082-861e-444f-cbd9-74623428e909"
      },
      "execution_count": null,
      "outputs": [
        {
          "output_type": "stream",
          "name": "stdout",
          "text": [
            "   Edad  Sexo   IMC  CintCad  GrasCorp  Cigarrillos  Alcohol  Piel  Diabetes  \\\n",
            "0    37     1  23.4     0.87      20.0            5        1     4         0   \n",
            "1    39     1  25.9     0.91      22.0            7        1     3         0   \n",
            "2    60     2  30.6     0.95      25.8            7        1     3         0   \n",
            "3    53     2  28.4     0.93      25.0            7        1     4         0   \n",
            "4    39     2  25.2     0.89      18.8            7        1     3         0   \n",
            "\n",
            "   MasaMusc  ActFisica  Trabajo  Farmacos  ProtectorSolar  ExposicionDias  \\\n",
            "0      23.8          0        1         7               1               2   \n",
            "1      21.8          0        1         4               2               2   \n",
            "2      34.2          1        1         7               5               0   \n",
            "3      28.7          0        2         8               1               5   \n",
            "4      26.8          1        1         8               2               1   \n",
            "\n",
            "   ExposicionMinutos  VitaminaD  CategoriaVitaD  \n",
            "0                 60      20.70               1  \n",
            "1                 30      26.74               1  \n",
            "2                  0      20.53               1  \n",
            "3                150      11.35               0  \n",
            "4                 10      34.61               1  \n"
          ]
        },
        {
          "output_type": "display_data",
          "data": {
            "text/plain": [
              "<Figure size 800x600 with 1 Axes>"
            ],
            "image/png": "[encoded data removed]"
          },
          "metadata": {}
        }
      ]
    },
    {
      "cell_type": "code",
      "execution_count": null,
      "metadata": {
        "colab": {
          "base_uri": "https://localhost:8080/"
        },
        "id": "XwZsVfQ3HZYw",
        "outputId": "8e2d3861-0703-48d3-af32-cd997c40bd76"
      },
      "outputs": [
        {
          "output_type": "stream",
          "name": "stdout",
          "text": [
            "CategoriaVitaD\n",
            "0    397\n",
            "1    677\n",
            "dtype: int64\n"
          ]
        }
      ],
      "source": [
        "print(dataframe.groupby('CategoriaVitaD').size())"
      ]
    },
    {
      "cell_type": "markdown",
      "metadata": {
        "id": "4pW1BZKjHZYw"
      },
      "source": [
        "## Visualizamos los datos"
      ]
    },
    {
      "cell_type": "code",
      "execution_count": null,
      "metadata": {
        "scrolled": true,
        "colab": {
          "base_uri": "https://localhost:8080/",
          "height": 457
        },
        "id": "rpbhDuVYHZYw",
        "outputId": "055193aa-57a0-476c-d407-82ef5440a8e9"
      },
      "outputs": [
        {
          "output_type": "display_data",
          "data": {
            "text/plain": [
              "<Figure size 640x480 with 20 Axes>"
            ],
            "image/png": "[encoded data removed]"
          },
          "metadata": {}
        }
      ],
      "source": [
        "dataframe.drop(['CategoriaVitaD'], axis=1).hist()\n",
        "plt.show()"
      ]
    },
    {
      "cell_type": "code",
      "execution_count": null,
      "metadata": {
        "scrolled": true,
        "id": "imqiFQbnHZYx"
      },
      "outputs": [],
      "source": [
        "#sb.pairplot(dataframe.dropna(), hue='clase',size=4,vars=[\"duracion\", \"paginas\",\"acciones\",\"valor\"],kind='reg')"
      ]
    },
    {
      "cell_type": "markdown",
      "metadata": {
        "id": "hG7925uhHZYx"
      },
      "source": [
        "## Creamos el modelo"
      ]
    },
    {
      "cell_type": "code",
      "execution_count": null,
      "metadata": {
        "colab": {
          "base_uri": "https://localhost:8080/"
        },
        "id": "_I9PFS6NHZYx",
        "outputId": "0b0177e3-8eb6-4ba8-a413-7de788de40c7"
      },
      "outputs": [
        {
          "output_type": "execute_result",
          "data": {
            "text/plain": [
              "(1074, 16)"
            ]
          },
          "metadata": {},
          "execution_count": 38
        }
      ],
      "source": [
        "X = np.array(dataframe.drop(['CategoriaVitaD', 'VitaminaD'], axis=1))  # asegúrate de especificar axis=1\n",
        "y = np.array(dataframe['CategoriaVitaD'])\n",
        "\n",
        "X.shape"
      ]
    },
    {
      "cell_type": "code",
      "execution_count": null,
      "metadata": {
        "colab": {
          "base_uri": "https://localhost:8080/",
          "height": 234
        },
        "id": "E0ayZxMmHZYy",
        "outputId": "436d36b7-2ff8-4e25-d622-d88f41e7e12f"
      },
      "outputs": [
        {
          "output_type": "stream",
          "name": "stderr",
          "text": [
            "/usr/local/lib/python3.10/dist-packages/sklearn/linear_model/_logistic.py:458: ConvergenceWarning: lbfgs failed to converge (status=1):\n",
            "STOP: TOTAL NO. of ITERATIONS REACHED LIMIT.\n",
            "\n",
            "Increase the number of iterations (max_iter) or scale the data as shown in:\n",
            "    https://scikit-learn.org/stable/modules/preprocessing.html\n",
            "Please also refer to the documentation for alternative solver options:\n",
            "    https://scikit-learn.org/stable/modules/linear_model.html#logistic-regression\n",
            "  n_iter_i = _check_optimize_result(\n"
          ]
        },
        {
          "output_type": "execute_result",
          "data": {
            "text/plain": [
              "LogisticRegression()"
            ],
            "text/html": [
              "<style>#sk-container-id-2 {color: black;background-color: white;}#sk-container-id-2 pre{padding: 0;}#sk-container-id-2 div.sk-toggleable {background-color: white;}#sk-container-id-2 label.sk-toggleable__label {cursor: pointer;display: block;width: 100%;margin-bottom: 0;padding: 0.3em;box-sizing: border-box;text-align: center;}#sk-container-id-2 label.sk-toggleable__label-arrow:before {content: \"▸\";float: left;margin-right: 0.25em;color: #696969;}#sk-container-id-2 label.sk-toggleable__label-arrow:hover:before {color: black;}#sk-container-id-2 div.sk-estimator:hover label.sk-toggleable__label-arrow:before {color: black;}#sk-container-id-2 div.sk-toggleable__content {max-height: 0;max-width: 0;overflow: hidden;text-align: left;background-color: #f0f8ff;}#sk-container-id-2 div.sk-toggleable__content pre {margin: 0.2em;color: black;border-radius: 0.25em;background-color: #f0f8ff;}#sk-container-id-2 input.sk-toggleable__control:checked~div.sk-toggleable__content {max-height: 200px;max-width: 100%;overflow: auto;}#sk-container-id-2 input.sk-toggleable__control:checked~label.sk-toggleable__label-arrow:before {content: \"▾\";}#sk-container-id-2 div.sk-estimator input.sk-toggleable__control:checked~label.sk-toggleable__label {background-color: #d4ebff;}#sk-container-id-2 div.sk-label input.sk-toggleable__control:checked~label.sk-toggleable__label {background-color: #d4ebff;}#sk-container-id-2 input.sk-hidden--visually {border: 0;clip: rect(1px 1px 1px 1px);clip: rect(1px, 1px, 1px, 1px);height: 1px;margin: -1px;overflow: hidden;padding: 0;position: absolute;width: 1px;}#sk-container-id-2 div.sk-estimator {font-family: monospace;background-color: #f0f8ff;border: 1px dotted black;border-radius: 0.25em;box-sizing: border-box;margin-bottom: 0.5em;}#sk-container-id-2 div.sk-estimator:hover {background-color: #d4ebff;}#sk-container-id-2 div.sk-parallel-item::after {content: \"\";width: 100%;border-bottom: 1px solid gray;flex-grow: 1;}#sk-container-id-2 div.sk-label:hover label.sk-toggleable__label {background-color: #d4ebff;}#sk-container-id-2 div.sk-serial::before {content: \"\";position: absolute;border-left: 1px solid gray;box-sizing: border-box;top: 0;bottom: 0;left: 50%;z-index: 0;}#sk-container-id-2 div.sk-serial {display: flex;flex-direction: column;align-items: center;background-color: white;padding-right: 0.2em;padding-left: 0.2em;position: relative;}#sk-container-id-2 div.sk-item {position: relative;z-index: 1;}#sk-container-id-2 div.sk-parallel {display: flex;align-items: stretch;justify-content: center;background-color: white;position: relative;}#sk-container-id-2 div.sk-item::before, #sk-container-id-2 div.sk-parallel-item::before {content: \"\";position: absolute;border-left: 1px solid gray;box-sizing: border-box;top: 0;bottom: 0;left: 50%;z-index: -1;}#sk-container-id-2 div.sk-parallel-item {display: flex;flex-direction: column;z-index: 1;position: relative;background-color: white;}#sk-container-id-2 div.sk-parallel-item:first-child::after {align-self: flex-end;width: 50%;}#sk-container-id-2 div.sk-parallel-item:last-child::after {align-self: flex-start;width: 50%;}#sk-container-id-2 div.sk-parallel-item:only-child::after {width: 0;}#sk-container-id-2 div.sk-dashed-wrapped {border: 1px dashed gray;margin: 0 0.4em 0.5em 0.4em;box-sizing: border-box;padding-bottom: 0.4em;background-color: white;}#sk-container-id-2 div.sk-label label {font-family: monospace;font-weight: bold;display: inline-block;line-height: 1.2em;}#sk-container-id-2 div.sk-label-container {text-align: center;}#sk-container-id-2 div.sk-container {/* jupyter's `normalize.less` sets `[hidden] { display: none; }` but bootstrap.min.css set `[hidden] { display: none !important; }` so we also need the `!important` here to be able to override the default hidden behavior on the sphinx rendered scikit-learn.org. See: https://github.com/scikit-learn/scikit-learn/issues/21755 */display: inline-block !important;position: relative;}#sk-container-id-2 div.sk-text-repr-fallback {display: none;}</style><div id=\"sk-container-id-2\" class=\"sk-top-container\"><div class=\"sk-text-repr-fallback\"><pre>LogisticRegression()</pre><b>In a Jupyter environment, please rerun this cell to show the HTML representation or trust the notebook. <br />On GitHub, the HTML representation is unable to render, please try loading this page with nbviewer.org.</b></div><div class=\"sk-container\" hidden><div class=\"sk-item\"><div class=\"sk-estimator sk-toggleable\"><input class=\"sk-toggleable__control sk-hidden--visually\" id=\"sk-estimator-id-2\" type=\"checkbox\" checked><label for=\"sk-estimator-id-2\" class=\"sk-toggleable__label sk-toggleable__label-arrow\">LogisticRegression</label><div class=\"sk-toggleable__content\"><pre>LogisticRegression()</pre></div></div></div></div></div>"
            ]
          },
          "metadata": {},
          "execution_count": 39
        }
      ],
      "source": [
        "model = linear_model.LogisticRegression()\n",
        "model.fit(X,y)\n"
      ]
    },
    {
      "cell_type": "code",
      "execution_count": null,
      "metadata": {
        "scrolled": true,
        "id": "BRk2on2qHZYy",
        "colab": {
          "base_uri": "https://localhost:8080/"
        },
        "outputId": "52a1f993-cb09-4dd2-f3ce-f83d8cc04c8c"
      },
      "outputs": [
        {
          "output_type": "stream",
          "name": "stdout",
          "text": [
            "[0 0 1 ... 1 1 1]\n"
          ]
        }
      ],
      "source": [
        "predictions = model.predict(X)\n",
        "print(predictions)"
      ]
    },
    {
      "cell_type": "code",
      "execution_count": null,
      "metadata": {
        "id": "n_GuX-z4HZYy",
        "colab": {
          "base_uri": "https://localhost:8080/"
        },
        "outputId": "97a68735-5e16-40b5-b611-194b9d2b7e38"
      },
      "outputs": [
        {
          "output_type": "execute_result",
          "data": {
            "text/plain": [
              "0.7067039106145251"
            ]
          },
          "metadata": {},
          "execution_count": 41
        }
      ],
      "source": [
        "model.score(X,y)"
      ]
    },
    {
      "cell_type": "markdown",
      "metadata": {
        "id": "mr7F_ra4HZYy"
      },
      "source": [
        "# Adicional: Validación del Modelo"
      ]
    },
    {
      "cell_type": "code",
      "execution_count": null,
      "metadata": {
        "id": "gfZLgvRRHZYz"
      },
      "outputs": [],
      "source": [
        "validation_size = 0.20\n",
        "seed = 7\n",
        "X_train, X_validation, Y_train, Y_validation = model_selection.train_test_split(X, y, test_size=validation_size, random_state=seed)"
      ]
    },
    {
      "cell_type": "code",
      "execution_count": null,
      "metadata": {
        "id": "KOhQUOx9HZYz",
        "colab": {
          "base_uri": "https://localhost:8080/"
        },
        "outputId": "5cd3f236-f2e1-44ee-e46e-19d1e09ae85a"
      },
      "outputs": [
        {
          "output_type": "stream",
          "name": "stderr",
          "text": [
            "/usr/local/lib/python3.10/dist-packages/sklearn/linear_model/_logistic.py:458: ConvergenceWarning: lbfgs failed to converge (status=1):\n",
            "STOP: TOTAL NO. of ITERATIONS REACHED LIMIT.\n",
            "\n",
            "Increase the number of iterations (max_iter) or scale the data as shown in:\n",
            "    https://scikit-learn.org/stable/modules/preprocessing.html\n",
            "Please also refer to the documentation for alternative solver options:\n",
            "    https://scikit-learn.org/stable/modules/linear_model.html#logistic-regression\n",
            "  n_iter_i = _check_optimize_result(\n",
            "/usr/local/lib/python3.10/dist-packages/sklearn/linear_model/_logistic.py:458: ConvergenceWarning: lbfgs failed to converge (status=1):\n",
            "STOP: TOTAL NO. of ITERATIONS REACHED LIMIT.\n",
            "\n",
            "Increase the number of iterations (max_iter) or scale the data as shown in:\n",
            "    https://scikit-learn.org/stable/modules/preprocessing.html\n",
            "Please also refer to the documentation for alternative solver options:\n",
            "    https://scikit-learn.org/stable/modules/linear_model.html#logistic-regression\n",
            "  n_iter_i = _check_optimize_result(\n",
            "/usr/local/lib/python3.10/dist-packages/sklearn/linear_model/_logistic.py:458: ConvergenceWarning: lbfgs failed to converge (status=1):\n",
            "STOP: TOTAL NO. of ITERATIONS REACHED LIMIT.\n",
            "\n",
            "Increase the number of iterations (max_iter) or scale the data as shown in:\n",
            "    https://scikit-learn.org/stable/modules/preprocessing.html\n",
            "Please also refer to the documentation for alternative solver options:\n",
            "    https://scikit-learn.org/stable/modules/linear_model.html#logistic-regression\n",
            "  n_iter_i = _check_optimize_result(\n",
            "/usr/local/lib/python3.10/dist-packages/sklearn/linear_model/_logistic.py:458: ConvergenceWarning: lbfgs failed to converge (status=1):\n",
            "STOP: TOTAL NO. of ITERATIONS REACHED LIMIT.\n",
            "\n",
            "Increase the number of iterations (max_iter) or scale the data as shown in:\n",
            "    https://scikit-learn.org/stable/modules/preprocessing.html\n",
            "Please also refer to the documentation for alternative solver options:\n",
            "    https://scikit-learn.org/stable/modules/linear_model.html#logistic-regression\n",
            "  n_iter_i = _check_optimize_result(\n",
            "/usr/local/lib/python3.10/dist-packages/sklearn/linear_model/_logistic.py:458: ConvergenceWarning: lbfgs failed to converge (status=1):\n",
            "STOP: TOTAL NO. of ITERATIONS REACHED LIMIT.\n",
            "\n",
            "Increase the number of iterations (max_iter) or scale the data as shown in:\n",
            "    https://scikit-learn.org/stable/modules/preprocessing.html\n",
            "Please also refer to the documentation for alternative solver options:\n",
            "    https://scikit-learn.org/stable/modules/linear_model.html#logistic-regression\n",
            "  n_iter_i = _check_optimize_result(\n"
          ]
        }
      ],
      "source": [
        "name='Logistic Regression'\n",
        "kfold = model_selection.KFold(n_splits=5, shuffle=True, random_state=seed)\n",
        "cv_results = model_selection.cross_val_score(model, X_train, Y_train, cv=kfold, scoring='accuracy')\n"
      ]
    },
    {
      "cell_type": "code",
      "execution_count": null,
      "metadata": {
        "id": "dD5Tqb0PHZYz",
        "colab": {
          "base_uri": "https://localhost:8080/"
        },
        "outputId": "8c21c17f-4845-4b13-88cc-ad4f6b120b58"
      },
      "outputs": [
        {
          "output_type": "stream",
          "name": "stdout",
          "text": [
            "Logistic Regression: 0.697368 (0.034136)\n"
          ]
        }
      ],
      "source": [
        "predictions = model.predict(X_validation)\n",
        "msg = \"%s: %f (%f)\" % (name, cv_results.mean(), cv_results.std())\n",
        "print(msg)"
      ]
    },
    {
      "cell_type": "markdown",
      "metadata": {
        "id": "eRK_K2_dHZYz"
      },
      "source": [
        "## Reporte de Resultados"
      ]
    },
    {
      "cell_type": "code",
      "execution_count": null,
      "metadata": {
        "id": "3GIXxcTrHZYz",
        "colab": {
          "base_uri": "https://localhost:8080/"
        },
        "outputId": "d6fd1a0f-41cf-452c-bcc7-59f0ced155db"
      },
      "outputs": [
        {
          "output_type": "stream",
          "name": "stdout",
          "text": [
            "[[ 40  43]\n",
            " [ 30 102]]\n"
          ]
        }
      ],
      "source": [
        "print(confusion_matrix(Y_validation, predictions))"
      ]
    },
    {
      "cell_type": "code",
      "execution_count": null,
      "metadata": {
        "id": "9nZhIn5xHZY0",
        "colab": {
          "base_uri": "https://localhost:8080/"
        },
        "outputId": "acd05cea-88c4-47d7-ac73-6b5b375542f2"
      },
      "outputs": [
        {
          "output_type": "stream",
          "name": "stdout",
          "text": [
            "El accuracy de test es: 66.04651162790698 % \n",
            "\n",
            "              precision    recall  f1-score   support\n",
            "\n",
            "           0       0.57      0.48      0.52        83\n",
            "           1       0.70      0.77      0.74       132\n",
            "\n",
            "    accuracy                           0.66       215\n",
            "   macro avg       0.64      0.63      0.63       215\n",
            "weighted avg       0.65      0.66      0.65       215\n",
            "\n"
          ]
        }
      ],
      "source": [
        "accuracy = accuracy_score(y_true=Y_validation, y_pred=predictions, normalize=True)\n",
        "print(f\"El accuracy de test es: {100 * accuracy} % \\n\")\n",
        "print(classification_report(Y_validation, predictions))"
      ]
    },
    {
      "cell_type": "code",
      "source": [
        "!pip install joblib\n"
      ],
      "metadata": {
        "colab": {
          "base_uri": "https://localhost:8080/"
        },
        "id": "i22Q17CJF6s6",
        "outputId": "822125e1-449e-4c22-852b-8bfa1ef37e86"
      },
      "execution_count": null,
      "outputs": [
        {
          "output_type": "stream",
          "name": "stdout",
          "text": [
            "Requirement already satisfied: joblib in /usr/local/lib/python3.10/dist-packages (1.4.0)\n"
          ]
        }
      ]
    },
    {
      "cell_type": "code",
      "source": [
        "import joblib\n",
        "\n",
        "\n",
        "# Exportando modelo a un archivo\n",
        "joblib.dump(model, '/content/RL_model.joblib')"
      ],
      "metadata": {
        "colab": {
          "base_uri": "https://localhost:8080/"
        },
        "id": "Mfv9GQ_gEqrh",
        "outputId": "cbc6c3d1-e9a0-437a-a085-1b1db949d485"
      },
      "execution_count": null,
      "outputs": [
        {
          "output_type": "execute_result",
          "data": {
            "text/plain": [
              "['/content/RL_model.joblib']"
            ]
          },
          "metadata": {},
          "execution_count": 48
        }
      ]
    }
  ],
  "metadata": {
    "kernelspec": {
      "display_name": "Python 2",
      "language": "python",
      "name": "python2"
    },
    "language_info": {
      "codemirror_mode": {
        "name": "ipython",
        "version": 2
      },
      "file_extension": ".py",
      "mimetype": "text/x-python",
      "name": "python",
      "nbconvert_exporter": "python",
      "pygments_lexer": "ipython2",
      "version": "2.7.13"
    },
    "colab": {
      "provenance": []
    }
  },
  "nbformat": 4,
  "nbformat_minor": 0
}